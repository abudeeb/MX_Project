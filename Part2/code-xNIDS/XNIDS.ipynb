{
 "cells": [
  {
   "cell_type": "code",
   "execution_count": 7,
   "id": "bdcd7587-bcc2-47a4-81da-86075de78e72",
   "metadata": {},
   "outputs": [],
   "source": [
    "import sys\n",
    "sys.path.append(r'C:\\Users\\CRAIB_LAB\\Introduction detection system\\code-xNIDS')  # Adding the path  using Windows\n"
   ]
  },
  {
   "cell_type": "code",
   "execution_count": 1,
   "id": "8e0cdf0f-c972-46ed-977b-54e46734884f",
   "metadata": {},
   "outputs": [],
   "source": [
    "# Load the test datasets\n",
    "import pandas as pd\n",
    "X_test = pd.read_csv('../X_test_cnn.csv')\n",
    "Y_test = pd.read_csv('../y_test_cat.csv')\n",
    "\n"
   ]
  },
  {
   "cell_type": "code",
   "execution_count": 2,
   "id": "a01891c3-5389-4751-b4b1-35982db25f51",
   "metadata": {},
   "outputs": [
    {
     "name": "stdout",
     "output_type": "stream",
     "text": [
      "(938254, 7)\n",
      "['-5.781778642590309492e-01', '6.910161686261422076e-02', '2.893754224213817006e-01', '-5.401049496665382144e-01', '9.999997868381725885e-01', '-9.999997868381725885e-01', '0.000000000000000000e+00']\n"
     ]
    }
   ],
   "source": [
    "print(X_test.shape)\n",
    "print(X_test.columns.tolist())\n"
   ]
  },
  {
   "cell_type": "code",
   "execution_count": 2,
   "id": "34e95f30-cf5b-4e4a-96ad-9a8a1f413dce",
   "metadata": {},
   "outputs": [
    {
     "name": "stderr",
     "output_type": "stream",
     "text": [
      "WARNING:absl:Compiled the loaded model, but the compiled metrics have yet to be built. `model.compile_metrics` will be empty until you train or evaluate the model.\n"
     ]
    },
    {
     "data": {
      "text/html": [
       "<pre style=\"white-space:pre;overflow-x:auto;line-height:normal;font-family:Menlo,'DejaVu Sans Mono',consolas,'Courier New',monospace\"><span style=\"font-weight: bold\">Model: \"sequential\"</span>\n",
       "</pre>\n"
      ],
      "text/plain": [
       "\u001b[1mModel: \"sequential\"\u001b[0m\n"
      ]
     },
     "metadata": {},
     "output_type": "display_data"
    },
    {
     "data": {
      "text/html": [
       "<pre style=\"white-space:pre;overflow-x:auto;line-height:normal;font-family:Menlo,'DejaVu Sans Mono',consolas,'Courier New',monospace\">┏━━━━━━━━━━━━━━━━━━━━━━━━━━━━━━━━━━━━━━┳━━━━━━━━━━━━━━━━━━━━━━━━━━━━━┳━━━━━━━━━━━━━━━━━┓\n",
       "┃<span style=\"font-weight: bold\"> Layer (type)                         </span>┃<span style=\"font-weight: bold\"> Output Shape                </span>┃<span style=\"font-weight: bold\">         Param # </span>┃\n",
       "┡━━━━━━━━━━━━━━━━━━━━━━━━━━━━━━━━━━━━━━╇━━━━━━━━━━━━━━━━━━━━━━━━━━━━━╇━━━━━━━━━━━━━━━━━┩\n",
       "│ conv1d (<span style=\"color: #0087ff; text-decoration-color: #0087ff\">Conv1D</span>)                      │ (<span style=\"color: #00d7ff; text-decoration-color: #00d7ff\">None</span>, <span style=\"color: #00af00; text-decoration-color: #00af00\">6</span>, <span style=\"color: #00af00; text-decoration-color: #00af00\">64</span>)               │             <span style=\"color: #00af00; text-decoration-color: #00af00\">192</span> │\n",
       "├──────────────────────────────────────┼─────────────────────────────┼─────────────────┤\n",
       "│ batch_normalization                  │ (<span style=\"color: #00d7ff; text-decoration-color: #00d7ff\">None</span>, <span style=\"color: #00af00; text-decoration-color: #00af00\">6</span>, <span style=\"color: #00af00; text-decoration-color: #00af00\">64</span>)               │             <span style=\"color: #00af00; text-decoration-color: #00af00\">256</span> │\n",
       "│ (<span style=\"color: #0087ff; text-decoration-color: #0087ff\">BatchNormalization</span>)                 │                             │                 │\n",
       "├──────────────────────────────────────┼─────────────────────────────┼─────────────────┤\n",
       "│ dropout (<span style=\"color: #0087ff; text-decoration-color: #0087ff\">Dropout</span>)                    │ (<span style=\"color: #00d7ff; text-decoration-color: #00d7ff\">None</span>, <span style=\"color: #00af00; text-decoration-color: #00af00\">6</span>, <span style=\"color: #00af00; text-decoration-color: #00af00\">64</span>)               │               <span style=\"color: #00af00; text-decoration-color: #00af00\">0</span> │\n",
       "├──────────────────────────────────────┼─────────────────────────────┼─────────────────┤\n",
       "│ conv1d_1 (<span style=\"color: #0087ff; text-decoration-color: #0087ff\">Conv1D</span>)                    │ (<span style=\"color: #00d7ff; text-decoration-color: #00d7ff\">None</span>, <span style=\"color: #00af00; text-decoration-color: #00af00\">5</span>, <span style=\"color: #00af00; text-decoration-color: #00af00\">128</span>)              │          <span style=\"color: #00af00; text-decoration-color: #00af00\">16,512</span> │\n",
       "├──────────────────────────────────────┼─────────────────────────────┼─────────────────┤\n",
       "│ batch_normalization_1                │ (<span style=\"color: #00d7ff; text-decoration-color: #00d7ff\">None</span>, <span style=\"color: #00af00; text-decoration-color: #00af00\">5</span>, <span style=\"color: #00af00; text-decoration-color: #00af00\">128</span>)              │             <span style=\"color: #00af00; text-decoration-color: #00af00\">512</span> │\n",
       "│ (<span style=\"color: #0087ff; text-decoration-color: #0087ff\">BatchNormalization</span>)                 │                             │                 │\n",
       "├──────────────────────────────────────┼─────────────────────────────┼─────────────────┤\n",
       "│ dropout_1 (<span style=\"color: #0087ff; text-decoration-color: #0087ff\">Dropout</span>)                  │ (<span style=\"color: #00d7ff; text-decoration-color: #00d7ff\">None</span>, <span style=\"color: #00af00; text-decoration-color: #00af00\">5</span>, <span style=\"color: #00af00; text-decoration-color: #00af00\">128</span>)              │               <span style=\"color: #00af00; text-decoration-color: #00af00\">0</span> │\n",
       "├──────────────────────────────────────┼─────────────────────────────┼─────────────────┤\n",
       "│ flatten (<span style=\"color: #0087ff; text-decoration-color: #0087ff\">Flatten</span>)                    │ (<span style=\"color: #00d7ff; text-decoration-color: #00d7ff\">None</span>, <span style=\"color: #00af00; text-decoration-color: #00af00\">640</span>)                 │               <span style=\"color: #00af00; text-decoration-color: #00af00\">0</span> │\n",
       "├──────────────────────────────────────┼─────────────────────────────┼─────────────────┤\n",
       "│ dense (<span style=\"color: #0087ff; text-decoration-color: #0087ff\">Dense</span>)                        │ (<span style=\"color: #00d7ff; text-decoration-color: #00d7ff\">None</span>, <span style=\"color: #00af00; text-decoration-color: #00af00\">64</span>)                  │          <span style=\"color: #00af00; text-decoration-color: #00af00\">41,024</span> │\n",
       "├──────────────────────────────────────┼─────────────────────────────┼─────────────────┤\n",
       "│ dropout_2 (<span style=\"color: #0087ff; text-decoration-color: #0087ff\">Dropout</span>)                  │ (<span style=\"color: #00d7ff; text-decoration-color: #00d7ff\">None</span>, <span style=\"color: #00af00; text-decoration-color: #00af00\">64</span>)                  │               <span style=\"color: #00af00; text-decoration-color: #00af00\">0</span> │\n",
       "├──────────────────────────────────────┼─────────────────────────────┼─────────────────┤\n",
       "│ dense_1 (<span style=\"color: #0087ff; text-decoration-color: #0087ff\">Dense</span>)                      │ (<span style=\"color: #00d7ff; text-decoration-color: #00d7ff\">None</span>, <span style=\"color: #00af00; text-decoration-color: #00af00\">7</span>)                   │             <span style=\"color: #00af00; text-decoration-color: #00af00\">455</span> │\n",
       "└──────────────────────────────────────┴─────────────────────────────┴─────────────────┘\n",
       "</pre>\n"
      ],
      "text/plain": [
       "┏━━━━━━━━━━━━━━━━━━━━━━━━━━━━━━━━━━━━━━┳━━━━━━━━━━━━━━━━━━━━━━━━━━━━━┳━━━━━━━━━━━━━━━━━┓\n",
       "┃\u001b[1m \u001b[0m\u001b[1mLayer (type)                        \u001b[0m\u001b[1m \u001b[0m┃\u001b[1m \u001b[0m\u001b[1mOutput Shape               \u001b[0m\u001b[1m \u001b[0m┃\u001b[1m \u001b[0m\u001b[1m        Param #\u001b[0m\u001b[1m \u001b[0m┃\n",
       "┡━━━━━━━━━━━━━━━━━━━━━━━━━━━━━━━━━━━━━━╇━━━━━━━━━━━━━━━━━━━━━━━━━━━━━╇━━━━━━━━━━━━━━━━━┩\n",
       "│ conv1d (\u001b[38;5;33mConv1D\u001b[0m)                      │ (\u001b[38;5;45mNone\u001b[0m, \u001b[38;5;34m6\u001b[0m, \u001b[38;5;34m64\u001b[0m)               │             \u001b[38;5;34m192\u001b[0m │\n",
       "├──────────────────────────────────────┼─────────────────────────────┼─────────────────┤\n",
       "│ batch_normalization                  │ (\u001b[38;5;45mNone\u001b[0m, \u001b[38;5;34m6\u001b[0m, \u001b[38;5;34m64\u001b[0m)               │             \u001b[38;5;34m256\u001b[0m │\n",
       "│ (\u001b[38;5;33mBatchNormalization\u001b[0m)                 │                             │                 │\n",
       "├──────────────────────────────────────┼─────────────────────────────┼─────────────────┤\n",
       "│ dropout (\u001b[38;5;33mDropout\u001b[0m)                    │ (\u001b[38;5;45mNone\u001b[0m, \u001b[38;5;34m6\u001b[0m, \u001b[38;5;34m64\u001b[0m)               │               \u001b[38;5;34m0\u001b[0m │\n",
       "├──────────────────────────────────────┼─────────────────────────────┼─────────────────┤\n",
       "│ conv1d_1 (\u001b[38;5;33mConv1D\u001b[0m)                    │ (\u001b[38;5;45mNone\u001b[0m, \u001b[38;5;34m5\u001b[0m, \u001b[38;5;34m128\u001b[0m)              │          \u001b[38;5;34m16,512\u001b[0m │\n",
       "├──────────────────────────────────────┼─────────────────────────────┼─────────────────┤\n",
       "│ batch_normalization_1                │ (\u001b[38;5;45mNone\u001b[0m, \u001b[38;5;34m5\u001b[0m, \u001b[38;5;34m128\u001b[0m)              │             \u001b[38;5;34m512\u001b[0m │\n",
       "│ (\u001b[38;5;33mBatchNormalization\u001b[0m)                 │                             │                 │\n",
       "├──────────────────────────────────────┼─────────────────────────────┼─────────────────┤\n",
       "│ dropout_1 (\u001b[38;5;33mDropout\u001b[0m)                  │ (\u001b[38;5;45mNone\u001b[0m, \u001b[38;5;34m5\u001b[0m, \u001b[38;5;34m128\u001b[0m)              │               \u001b[38;5;34m0\u001b[0m │\n",
       "├──────────────────────────────────────┼─────────────────────────────┼─────────────────┤\n",
       "│ flatten (\u001b[38;5;33mFlatten\u001b[0m)                    │ (\u001b[38;5;45mNone\u001b[0m, \u001b[38;5;34m640\u001b[0m)                 │               \u001b[38;5;34m0\u001b[0m │\n",
       "├──────────────────────────────────────┼─────────────────────────────┼─────────────────┤\n",
       "│ dense (\u001b[38;5;33mDense\u001b[0m)                        │ (\u001b[38;5;45mNone\u001b[0m, \u001b[38;5;34m64\u001b[0m)                  │          \u001b[38;5;34m41,024\u001b[0m │\n",
       "├──────────────────────────────────────┼─────────────────────────────┼─────────────────┤\n",
       "│ dropout_2 (\u001b[38;5;33mDropout\u001b[0m)                  │ (\u001b[38;5;45mNone\u001b[0m, \u001b[38;5;34m64\u001b[0m)                  │               \u001b[38;5;34m0\u001b[0m │\n",
       "├──────────────────────────────────────┼─────────────────────────────┼─────────────────┤\n",
       "│ dense_1 (\u001b[38;5;33mDense\u001b[0m)                      │ (\u001b[38;5;45mNone\u001b[0m, \u001b[38;5;34m7\u001b[0m)                   │             \u001b[38;5;34m455\u001b[0m │\n",
       "└──────────────────────────────────────┴─────────────────────────────┴─────────────────┘\n"
      ]
     },
     "metadata": {},
     "output_type": "display_data"
    },
    {
     "data": {
      "text/html": [
       "<pre style=\"white-space:pre;overflow-x:auto;line-height:normal;font-family:Menlo,'DejaVu Sans Mono',consolas,'Courier New',monospace\"><span style=\"font-weight: bold\"> Total params: </span><span style=\"color: #00af00; text-decoration-color: #00af00\">58,953</span> (230.29 KB)\n",
       "</pre>\n"
      ],
      "text/plain": [
       "\u001b[1m Total params: \u001b[0m\u001b[38;5;34m58,953\u001b[0m (230.29 KB)\n"
      ]
     },
     "metadata": {},
     "output_type": "display_data"
    },
    {
     "data": {
      "text/html": [
       "<pre style=\"white-space:pre;overflow-x:auto;line-height:normal;font-family:Menlo,'DejaVu Sans Mono',consolas,'Courier New',monospace\"><span style=\"font-weight: bold\"> Trainable params: </span><span style=\"color: #00af00; text-decoration-color: #00af00\">58,567</span> (228.78 KB)\n",
       "</pre>\n"
      ],
      "text/plain": [
       "\u001b[1m Trainable params: \u001b[0m\u001b[38;5;34m58,567\u001b[0m (228.78 KB)\n"
      ]
     },
     "metadata": {},
     "output_type": "display_data"
    },
    {
     "data": {
      "text/html": [
       "<pre style=\"white-space:pre;overflow-x:auto;line-height:normal;font-family:Menlo,'DejaVu Sans Mono',consolas,'Courier New',monospace\"><span style=\"font-weight: bold\"> Non-trainable params: </span><span style=\"color: #00af00; text-decoration-color: #00af00\">384</span> (1.50 KB)\n",
       "</pre>\n"
      ],
      "text/plain": [
       "\u001b[1m Non-trainable params: \u001b[0m\u001b[38;5;34m384\u001b[0m (1.50 KB)\n"
      ]
     },
     "metadata": {},
     "output_type": "display_data"
    },
    {
     "data": {
      "text/html": [
       "<pre style=\"white-space:pre;overflow-x:auto;line-height:normal;font-family:Menlo,'DejaVu Sans Mono',consolas,'Courier New',monospace\"><span style=\"font-weight: bold\"> Optimizer params: </span><span style=\"color: #00af00; text-decoration-color: #00af00\">2</span> (12.00 B)\n",
       "</pre>\n"
      ],
      "text/plain": [
       "\u001b[1m Optimizer params: \u001b[0m\u001b[38;5;34m2\u001b[0m (12.00 B)\n"
      ]
     },
     "metadata": {},
     "output_type": "display_data"
    }
   ],
   "source": [
    "from tensorflow.keras.models import load_model\n",
    "\n",
    "# Load your trained model \n",
    "\n",
    "model = load_model('../IDS1_model.h5')\n",
    "model.summary()\n",
    "\n"
   ]
  },
  {
   "cell_type": "code",
   "execution_count": 6,
   "id": "1e963a9f-5c63-4547-b986-0b8e7aa75fc4",
   "metadata": {},
   "outputs": [
    {
     "name": "stdout",
     "output_type": "stream",
     "text": [
      "C:\\Users\\CRAIB_LAB\\Introduction detection system\\code-xNIDS\n"
     ]
    }
   ],
   "source": [
    "import sys\n",
    "import os\n",
    "\n",
    "# Print the current working directory to check the folder structure\n",
    "print(os.getcwd())\n",
    "\n",
    "# Append the path to the xNIDS folder\n",
    "sys.path.append(os.path.join(os.getcwd(), 'code-xNIDS'))\n",
    "\n"
   ]
  },
  {
   "cell_type": "code",
   "execution_count": 3,
   "id": "9863206c-c7da-46aa-b4cf-668f4a5d9db5",
   "metadata": {},
   "outputs": [
    {
     "name": "stdout",
     "output_type": "stream",
     "text": [
      "Current Working Directory: C:\\Users\\CRAIB_LAB\\Introduction detection system\\code-xNIDS\n",
      "Python Path: ['C:\\\\Users\\\\CRAIB_LAB\\\\miniconda3\\\\python312.zip', 'C:\\\\Users\\\\CRAIB_LAB\\\\miniconda3\\\\DLLs', 'C:\\\\Users\\\\CRAIB_LAB\\\\miniconda3\\\\Lib', 'C:\\\\Users\\\\CRAIB_LAB\\\\miniconda3', '', 'C:\\\\Users\\\\CRAIB_LAB\\\\miniconda3\\\\Lib\\\\site-packages', 'C:\\\\Users\\\\CRAIB_LAB\\\\miniconda3\\\\Lib\\\\site-packages\\\\win32', 'C:\\\\Users\\\\CRAIB_LAB\\\\miniconda3\\\\Lib\\\\site-packages\\\\win32\\\\lib', 'C:\\\\Users\\\\CRAIB_LAB\\\\miniconda3\\\\Lib\\\\site-packages\\\\Pythonwin', 'C:\\\\Users\\\\CRAIB_LAB\\\\Introduction detection system\\\\code-xNIDS\\\\Scripts']\n"
     ]
    }
   ],
   "source": [
    "import sys\n",
    "import os\n",
    "\n",
    "# Print current working directory to verify\n",
    "print(\"Current Working Directory:\", os.getcwd())\n",
    "\n",
    "# Add the Scripts folder to the Python path\n",
    "sys.path.append(r'C:\\Users\\CRAIB_LAB\\Introduction detection system\\code-xNIDS\\Scripts')\n",
    "\n",
    "# Verify the path has been added\n",
    "print(\"Python Path:\", sys.path)\n"
   ]
  },
  {
   "cell_type": "code",
   "execution_count": 4,
   "id": "f54ff069-0253-4d8a-bacd-832a55852d0e",
   "metadata": {},
   "outputs": [
    {
     "name": "stdout",
     "output_type": "stream",
     "text": [
      "C:\\Users\\CRAIB_LAB\\miniconda3\\python.exe\n"
     ]
    }
   ],
   "source": [
    "import sys\n",
    "print(sys.executable)\n"
   ]
  },
  {
   "cell_type": "code",
   "execution_count": 2,
   "id": "d2a163cf-0940-424e-b641-f60f2632433d",
   "metadata": {},
   "outputs": [
    {
     "name": "stdout",
     "output_type": "stream",
     "text": [
      "C:\\Users\\CRAIB_LAB\\miniconda3\\python.exe\n"
     ]
    }
   ],
   "source": [
    "import sys\n",
    "print(sys.executable)\n"
   ]
  },
  {
   "cell_type": "code",
   "execution_count": 4,
   "id": "0024020f-8ead-40bc-a5b0-d89a63eb1f62",
   "metadata": {},
   "outputs": [],
   "source": [
    "import asgl\n"
   ]
  },
  {
   "cell_type": "code",
   "execution_count": 71,
   "id": "2ed8abfa-d549-4730-9a25-5937a4aea7b1",
   "metadata": {},
   "outputs": [
    {
     "name": "stdout",
     "output_type": "stream",
     "text": [
      "\u001b[1m1/1\u001b[0m \u001b[32m━━━━━━━━━━━━━━━━━━━━\u001b[0m\u001b[37m\u001b[0m \u001b[1m0s\u001b[0m 37ms/step\n",
      "Predicted Attack: CnC uploading exe\n",
      "True Attack: CnC uploading exe\n"
     ]
    }
   ],
   "source": [
    "import numpy as np\n",
    "import random\n",
    "\n",
    "# Map the integer labels back to the attack names using the label mapping\n",
    "attack_label_mapping = {\n",
    "    0: \"Send fake command\",\n",
    "    1: \"Moving Two files\",\n",
    "    2: \"Exploit ms08 netapi\",\n",
    "    3: \"CnC uploading exe\",\n",
    "    4: \"Characterization\",\n",
    "    5: \"Least Significant bit exfiltration\"\n",
    "}\n",
    "\n",
    "# Randomize the sample index each time\n",
    "sample_index = random.randint(0, len(X_test) - 1)  # Randomly pick an index from 0 to len(X_test)-1\n",
    "\n",
    "# Pick a random sample from X_test\n",
    "current_sample = X_test.iloc[sample_index].values.reshape(1, -1)\n",
    "\n",
    "# Make a prediction with the CNN model\n",
    "prediction = model.predict(current_sample)\n",
    "predicted_label = prediction.argmax(axis=1)  # Getting the class with highest probability\n",
    "\n",
    "# Get the true label from Y_test (one-hot encoded)\n",
    "true_label = Y_test.iloc[sample_index].argmax(axis=0)  # Extract true label (index of '1')\n",
    "\n",
    "# Map the predicted and true labels to attack names\n",
    "predicted_attack_name = attack_label_mapping[predicted_label[0]]\n",
    "true_attack_name = attack_label_mapping[true_label]\n",
    "\n",
    "# Print the results\n",
    "print(f\"Predicted Attack: {predicted_attack_name}\")\n",
    "print(f\"True Attack: {true_attack_name}\")\n"
   ]
  },
  {
   "cell_type": "code",
   "execution_count": 33,
   "id": "c4f831aa-b744-4b48-9d80-c410989c41d3",
   "metadata": {
    "scrolled": true
   },
   "outputs": [
    {
     "name": "stderr",
     "output_type": "stream",
     "text": [
      "WARNING:absl:Compiled the loaded model, but the compiled metrics have yet to be built. `model.compile_metrics` will be empty until you train or evaluate the model.\n"
     ]
    },
    {
     "name": "stdout",
     "output_type": "stream",
     "text": [
      "Current sample shape: (1, 7)\n",
      "\u001b[1m1/1\u001b[0m \u001b[32m━━━━━━━━━━━━━━━━━━━━\u001b[0m\u001b[37m\u001b[0m \u001b[1m0s\u001b[0m 143ms/step\n"
     ]
    },
    {
     "name": "stderr",
     "output_type": "stream",
     "text": [
      "WARNING:absl:Compiled the loaded model, but the compiled metrics have yet to be built. `model.compile_metrics` will be empty until you train or evaluate the model.\n"
     ]
    },
    {
     "name": "stdout",
     "output_type": "stream",
     "text": [
      "\n",
      "===== Prediction Results =====\n",
      "Raw prediction (probabilities): [[5.3351747e-17 1.0163077e-16 4.2929097e-23 9.9955231e-01 3.4863442e-16\n",
      "  4.4765239e-04 1.7342142e-08]]\n",
      "Predicted class: 3 - CnC uploading exe\n",
      "Prediction confidence (probability): 0.9996\n",
      "\n",
      "===== Finding a proper input =====\n",
      "\u001b[1m1/1\u001b[0m \u001b[32m━━━━━━━━━━━━━━━━━━━━\u001b[0m\u001b[37m\u001b[0m \u001b[1m0s\u001b[0m 145ms/step\n"
     ]
    },
    {
     "name": "stderr",
     "output_type": "stream",
     "text": [
      "WARNING:absl:Compiled the loaded model, but the compiled metrics have yet to be built. `model.compile_metrics` will be empty until you train or evaluate the model.\n"
     ]
    },
    {
     "name": "stdout",
     "output_type": "stream",
     "text": [
      "Found proper input: [[[ 0.09314966]\n",
      "  [ 0.06910162]\n",
      "  [ 1.46510042]\n",
      "  [ 0.19255428]\n",
      "  [-1.00000021]\n",
      "  [ 1.00000021]\n",
      "  [ 0.        ]]]\n",
      "\n",
      "===== Performing weighted sampling =====\n",
      "Weighted samples shape: (5, 7)\n",
      "First 5 weighted samples: [[0.         0.         0.         0.19255428 0.         0.\n",
      "  0.        ]\n",
      " [0.         0.         1.46510042 0.         0.         0.\n",
      "  0.        ]\n",
      " [0.         0.         0.         0.         0.         1.00000021\n",
      "  0.        ]\n",
      " [0.         0.         1.46510042 0.         0.         0.\n",
      "  0.        ]\n",
      " [0.         0.         0.         0.19255428 0.         0.\n",
      "  0.        ]]\n",
      "Scaled weighted samples: [[ 0.          0.         -0.81649658  1.22474487  0.         -0.5\n",
      "   0.        ]\n",
      " [ 0.          0.          1.22474487 -0.81649658  0.         -0.5\n",
      "   0.        ]\n",
      " [ 0.          0.         -0.81649658 -0.81649658  0.          2.\n",
      "   0.        ]\n",
      " [ 0.          0.          1.22474487 -0.81649658  0.         -0.5\n",
      "   0.        ]\n",
      " [ 0.          0.         -0.81649658  1.22474487  0.         -0.5\n",
      "   0.        ]]\n",
      "Weighted samples shape: (5, 7)\n",
      "First 5 weighted samples: [[ 0.          0.         -0.81649658  1.22474487  0.         -0.5\n",
      "   0.        ]\n",
      " [ 0.          0.          1.22474487 -0.81649658  0.         -0.5\n",
      "   0.        ]\n",
      " [ 0.          0.         -0.81649658 -0.81649658  0.          2.\n",
      "   0.        ]\n",
      " [ 0.          0.          1.22474487 -0.81649658  0.         -0.5\n",
      "   0.        ]\n",
      " [ 0.          0.         -0.81649658  1.22474487  0.         -0.5\n",
      "   0.        ]]\n",
      "\n",
      "===== Applying Sparse Group Lasso =====\n",
      "\u001b[1m1/1\u001b[0m \u001b[32m━━━━━━━━━━━━━━━━━━━━\u001b[0m\u001b[37m\u001b[0m \u001b[1m0s\u001b[0m 118ms/step\n",
      "Raw model output probabilities: [[5.3351747e-17 1.0163077e-16 4.2929097e-23 9.9955231e-01 3.4863442e-16\n",
      "  4.4765239e-04 1.7342142e-08]]\n",
      "Computed coefficients: [array([0.9995523, 0.9995523, 0.9995523, 0.       , 0.9995523, 0.9991047,\n",
      "       0.9995523], dtype=float32)]\n",
      "\n",
      "===== Visualizing Feature Importance =====\n",
      "Raw weights: [0.9995523 0.9995523 0.9995523 0.        0.9995523 0.9991047 0.9995523]\n",
      "Normalized weights: [1.        1.        1.        0.        1.        0.9995522 1.       ]\n"
     ]
    },
    {
     "data": {
      "image/png": "[encoded data removed]",
      "text/plain": [
       "<Figure size 1500x500 with 1 Axes>"
      ]
     },
     "metadata": {},
     "output_type": "display_data"
    }
   ],
   "source": [
    "# 1. Imports\n",
    "from explanation import Explanation\n",
    "import numpy as np\n",
    "from tensorflow import keras\n",
    "import pandas as pd\n",
    "\n",
    "# 2. Attack label mapping\n",
    "attack_label_mapping = {\n",
    "    0: \"Send fake command\",\n",
    "    1: \"Moving Two files\",\n",
    "    2: \"Exploit ms08 netapi\",\n",
    "    3: \"CnC uploading exe\",\n",
    "    4: \"Characterization\",\n",
    "    5: \"Least Significant bit exfiltration\"\n",
    "}\n",
    "\n",
    "# 3. Feature names (final mapping based on your dataset)\n",
    "feature_cols = [\n",
    "    'Source',\n",
    "    'Destination',\n",
    "    'Protocol',\n",
    "    'Length',\n",
    "    'query_type',\n",
    "    'function_code',\n",
    "    'transaction_id'\n",
    "]\n",
    "\n",
    "# 4. Load test data and define the sample for explanation\n",
    "X_test = pd.read_csv('../X_test_cnn.csv')  # Ensure this file exists and is loaded correctly\n",
    "sample_index = 0  # Choose a sample index for prediction\n",
    "current_sample = X_test.iloc[sample_index].values.reshape(1, -1)  # Reshape for the model\n",
    "\n",
    "# Print the shape of the current sample to ensure it's correct\n",
    "print(f\"Current sample shape: {current_sample.shape}\")\n",
    "\n",
    "# 5. Load the trained model and make a prediction\n",
    "model = keras.models.load_model('../IDS1_model.h5')  # Path to your saved model\n",
    "prediction = model.predict(current_sample)  # Get the raw prediction from the model\n",
    "\n",
    "# Print the prediction to understand its structure\n",
    "print(\"\\n===== Prediction Results =====\")\n",
    "print(f\"Raw prediction (probabilities): {prediction}\")\n",
    "\n",
    "# 6. Extract predicted class and confidence\n",
    "predicted_class = np.argmax(prediction, axis=1)[0]  # Get the predicted class label\n",
    "predicted_confidence = prediction[0][predicted_class]  # Get the confidence/probability for the predicted class\n",
    "\n",
    "# Get human-readable class name\n",
    "predicted_class_name = attack_label_mapping.get(predicted_class, \"Unknown Class\")\n",
    "\n",
    "# Print prediction details\n",
    "print(f\"Predicted class: {predicted_class} - {predicted_class_name}\")\n",
    "print(f\"Prediction confidence (probability): {predicted_confidence:.4f}\")\n",
    "\n",
    "# 7. Create the Explanation object and perform explanation\n",
    "explainer = Explanation(\n",
    "    current_sample=current_sample,\n",
    "    histo_samples=X_test.values,\n",
    "    model_path='../IDS1_model.h5',  # Path to your saved model\n",
    "    original_score=predicted_confidence,  # Use confidence score or original prediction score\n",
    "    feature_names=feature_cols,  # Using clean final feature names\n",
    "    group_sizes=[len(feature_cols)],\n",
    "    target=predicted_class  # Pass the predicted class as target\n",
    ")\n",
    "\n",
    "# 8. Find a proper input\n",
    "print(\"\\n===== Finding a proper input =====\")\n",
    "new_input = explainer.search_proper_input()\n",
    "print(f\"Found proper input: {new_input}\")\n",
    "\n",
    "# 9. Perform weighted sampling\n",
    "print(\"\\n===== Performing weighted sampling =====\")\n",
    "explainer.weighted_sampling(num_samples=5)\n",
    "\n",
    "# Check weighted samples before proceeding to regression\n",
    "print(\"Weighted samples shape:\", explainer.weighted_samples.shape)\n",
    "print(\"First 5 weighted samples:\", explainer.weighted_samples[:5])\n",
    "\n",
    "# 10. Apply updated Sparse Group Lasso\n",
    "print(\"\\n===== Applying Sparse Group Lasso =====\")\n",
    "explainer.sparse_group_lasso()\n",
    "\n",
    "# Print coefficients after applying Lasso\n",
    "print(f\"Computed coefficients: {explainer.coef}\")\n",
    "\n",
    "# 11. Visualize feature importance (now with real feature names)\n",
    "print(\"\\n===== Visualizing Feature Importance =====\")\n",
    "explainer.visualization(\n",
    "    group_sizes=[len(feature_cols)],\n",
    "    group_names=[\"All Features\"],\n",
    "    feature_names=feature_cols\n",
    ")\n"
   ]
  },
  {
   "cell_type": "code",
   "execution_count": null,
   "id": "f84e0dcb-c17c-4726-af15-2707701abfaf",
   "metadata": {},
   "outputs": [],
   "source": []
  },
  {
   "cell_type": "code",
   "execution_count": null,
   "id": "6ee869cc-b1b3-4d2b-9463-70369a47a133",
   "metadata": {},
   "outputs": [],
   "source": []
  }
 ],
 "metadata": {
  "kernelspec": {
   "display_name": "Python (base)",
   "language": "python",
   "name": "base"
  },
  "language_info": {
   "codemirror_mode": {
    "name": "ipython",
    "version": 3
   },
   "file_extension": ".py",
   "mimetype": "text/x-python",
   "name": "python",
   "nbconvert_exporter": "python",
   "pygments_lexer": "ipython3",
   "version": "3.12.9"
  }
 },
 "nbformat": 4,
 "nbformat_minor": 5
}
