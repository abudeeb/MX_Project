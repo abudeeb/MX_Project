{
 "cells": [
  {
   "cell_type": "code",
   "execution_count": 1,
   "id": "bdcd7587-bcc2-47a4-81da-86075de78e72",
   "metadata": {},
   "outputs": [
    {
     "name": "stdout",
     "output_type": "stream",
     "text": [
      "(938254, 7)\n",
      "['-5.781778642590309492e-01', '6.910161686261422076e-02', '2.893754224213817006e-01', '-5.401049496665382144e-01', '9.999997868381725885e-01', '-9.999997868381725885e-01', '0.000000000000000000e+00']\n",
      "2025-05-09 03:04:16,433 - WARNING - Compiled the loaded model, but the compiled metrics have yet to be built. `model.compile_metrics` will be empty until you train or evaluate the model.\n"
     ]
    }
   ],
   "source": [
    "import sys\n",
    "import os\n",
    "import pandas as pd\n",
    "import asgl\n",
    "import numpy as np\n",
    "from explanation import Explanation\n",
    "import numpy as np\n",
    "from tensorflow import keras\n",
    "sys.path.append(r'C:\\Users\\Ali\\Python_Projects\\IDS_MODEL_Using_MODBUS\\Part2\\code-xNIDS')  # Add this path if you're using Windows\n",
    "# Load the test datasets\n",
    "\n",
    "X_test = pd.read_csv('../X_test_cnn.csv')\n",
    "Y_test = pd.read_csv('../y_test_cat.csv')\n",
    "\n",
    "print(X_test.shape)\n",
    "print(X_test.columns.tolist())\n",
    "\n",
    "from tensorflow.keras.models import load_model\n",
    "\n",
    "# Load your trained model \n",
    "\n",
    "model = load_model('IDS1_model.h5')"
   ]
  },
  {
   "cell_type": "code",
   "execution_count": 2,
   "id": "1e963a9f-5c63-4547-b986-0b8e7aa75fc4",
   "metadata": {},
   "outputs": [
    {
     "name": "stdout",
     "output_type": "stream",
     "text": [
      "C:\\Users\\Ali\\Python_Projects\\IDS_MODEL_Using_MODBUS\\Part2\\code-xNIDS\n",
      "Current Working Directory: C:\\Users\\Ali\\Python_Projects\\IDS_MODEL_Using_MODBUS\\Part2\\code-xNIDS\n",
      "Python Path: ['C:\\\\Users\\\\Ali\\\\anaconda3\\\\envs\\\\final\\\\python311.zip', 'C:\\\\Users\\\\Ali\\\\anaconda3\\\\envs\\\\final\\\\Lib', 'C:\\\\Users\\\\Ali\\\\anaconda3\\\\envs\\\\final\\\\DLLs', 'C:\\\\Users\\\\Ali\\\\anaconda3\\\\envs\\\\final', '', 'C:\\\\Users\\\\Ali\\\\anaconda3\\\\envs\\\\final\\\\Lib\\\\site-packages', 'C:\\\\Users\\\\Ali\\\\anaconda3\\\\envs\\\\final\\\\Lib\\\\site-packages\\\\win32', 'C:\\\\Users\\\\Ali\\\\anaconda3\\\\envs\\\\final\\\\Lib\\\\site-packages\\\\win32\\\\lib', 'C:\\\\Users\\\\Ali\\\\anaconda3\\\\envs\\\\final\\\\Lib\\\\site-packages\\\\Pythonwin', 'C:\\\\Users\\\\Ali\\\\anaconda3\\\\envs\\\\final\\\\Lib\\\\site-packages\\\\setuptools\\\\_vendor', 'C:\\\\Users\\\\Ali\\\\Python_Projects\\\\IDS_MODEL_Using_MODBUS\\\\Part2\\\\code-xNIDS', 'C:\\\\Users\\\\Ali\\\\Python_Projects\\\\IDS_MODEL_Using_MODBUS\\\\Part2\\\\code-xNIDS\\\\code-xNIDS', 'C:\\\\Users\\\\Ali\\\\Python_Projects\\\\IDS_MODEL_Using_MODBUS\\\\Part2\\\\code-xNIDS\\\\Scripts']\n",
      "\u001b[1m1/1\u001b[0m \u001b[32m━━━━━━━━━━━━━━━━━━━━\u001b[0m\u001b[37m\u001b[0m \u001b[1m0s\u001b[0m 121ms/step\n",
      "\n",
      "===== Model Prediction Result =====\n",
      "Prediction (raw probabilities): [[1.8479844e-07 1.6196827e-12 1.0101010e-13 9.9956280e-01 1.0157196e-12\n",
      "  4.0858396e-04 2.8428152e-05]]\n",
      "Predicted class: 3 - CnC uploading exe\n",
      "Prediction confidence (probability): 0.9996\n"
     ]
    }
   ],
   "source": [
    "\n",
    "# Print the current working directory to check the folder structure\n",
    "print(os.getcwd())\n",
    "\n",
    "# Append the path to the xNIDS folder\n",
    "sys.path.append(os.path.join(os.getcwd(), 'code-xNIDS'))\n",
    "\n",
    "# Print current working directory to verify\n",
    "print(\"Current Working Directory:\", os.getcwd())\n",
    "\n",
    "# Add the Scripts folder to the Python path\n",
    "sys.path.append(r'C:\\Users\\Ali\\Python_Projects\\IDS_MODEL_Using_MODBUS\\Part2\\code-xNIDS\\Scripts')\n",
    "\n",
    "# Verify the path has been added\n",
    "print(\"Python Path:\", sys.path)\n",
    "\n",
    "# Map the integer labels back to the attack names using the label mapping\n",
    "attack_label_mapping = {\n",
    "    0: \"Send fake command\",\n",
    "    1: \"Moving Two files\",\n",
    "    2: \"Exploit ms08 netapi\",\n",
    "    3: \"CnC uploading exe\",\n",
    "    4: \"Characterization\",\n",
    "    5: \"Least Significant bit exfiltration\"\n",
    "}\n",
    "\n",
    "# Make a prediction with the CNN model\n",
    "sample_index = 0\n",
    "current_sample = X_test.iloc[sample_index].values.reshape(1, -1)\n",
    "\n",
    "# Make a prediction with the CNN model\n",
    "prediction = model.predict(current_sample)\n",
    "predicted_label = prediction.argmax(axis=1)  # Getting the class with highest probability\n",
    "\n",
    "# Get the true label from Y_test (one-hot encoded)\n",
    "true_label = Y_test.iloc[sample_index].argmax(axis=0)  # Extract true label (index of '1')\n",
    "\n",
    "# Map the predicted and true labels to attack names\n",
    "predicted_attack_name = attack_label_mapping[predicted_label[0]]\n",
    "true_attack_name = attack_label_mapping[true_label]\n",
    "\n",
    "print(\"\\n===== Model Prediction Result =====\")\n",
    "print(f\"Prediction (raw probabilities): {prediction}\")\n",
    "\n",
    "predicted_class = np.argmax(prediction, axis=1)[0]\n",
    "predicted_confidence = prediction[0][predicted_class]\n",
    "original_score   = float(prediction[0, predicted_class])\n",
    "\n",
    "# Get human-readable class name\n",
    "predicted_class_name = attack_label_mapping.get(predicted_class, \"Unknown Class\")\n",
    "\n",
    "print(f\"Predicted class: {predicted_class} - {predicted_class_name}\")\n",
    "print(f\"Prediction confidence (probability): {predicted_confidence:.4f}\")"
   ]
  },
  {
   "cell_type": "code",
   "execution_count": 3,
   "id": "c4f831aa-b744-4b48-9d80-c410989c41d3",
   "metadata": {
    "scrolled": true
   },
   "outputs": [
    {
     "name": "stdout",
     "output_type": "stream",
     "text": [
      "2025-05-09 03:04:23,100 - WARNING - Compiled the loaded model, but the compiled metrics have yet to be built. `model.compile_metrics` will be empty until you train or evaluate the model.\n",
      "\u001b[1m1/1\u001b[0m \u001b[32m━━━━━━━━━━━━━━━━━━━━\u001b[0m\u001b[37m\u001b[0m \u001b[1m0s\u001b[0m 101ms/step\n",
      "2025-05-09 03:04:23,323 - WARNING - Compiled the loaded model, but the compiled metrics have yet to be built. `model.compile_metrics` will be empty until you train or evaluate the model.\n",
      "\u001b[1m1/1\u001b[0m \u001b[32m━━━━━━━━━━━━━━━━━━━━\u001b[0m\u001b[37m\u001b[0m \u001b[1m0s\u001b[0m 95ms/step\n",
      "\u001b[1m1/1\u001b[0m \u001b[32m━━━━━━━━━━━━━━━━━━━━\u001b[0m\u001b[37m\u001b[0m \u001b[1m0s\u001b[0m 21ms/step\n",
      "2025-05-09 03:04:23,668 - WARNING - Compiled the loaded model, but the compiled metrics have yet to be built. `model.compile_metrics` will be empty until you train or evaluate the model.\n",
      "\u001b[1m1/2\u001b[0m \u001b[32m━━━━━━━━━━\u001b[0m\u001b[37m━━━━━━━━━━\u001b[0m \u001b[1m0s\u001b[0m 102ms/step2025-05-09 03:04:23,898 - WARNING - 5 out of the last 6 calls to <function TensorFlowTrainer.make_predict_function.<locals>.one_step_on_data_distributed at 0x000001D484935DA0> triggered tf.function retracing. Tracing is expensive and the excessive number of tracings could be due to (1) creating @tf.function repeatedly in a loop, (2) passing tensors with different shapes, (3) passing Python objects instead of tensors. For (1), please define your @tf.function outside of the loop. For (2), @tf.function has reduce_retracing=True option that can avoid unnecessary retracing. For (3), please refer to https://www.tensorflow.org/guide/function#controlling_retracing and https://www.tensorflow.org/api_docs/python/tf/function for  more details.\n",
      "\u001b[1m2/2\u001b[0m \u001b[32m━━━━━━━━━━━━━━━━━━━━\u001b[0m\u001b[37m\u001b[0m \u001b[1m0s\u001b[0m 112ms/step\n"
     ]
    },
    {
     "data": {
      "image/png": "[encoded data removed]",
      "text/plain": [
       "<Figure size 640x480 with 1 Axes>"
      ]
     },
     "metadata": {},
     "output_type": "display_data"
    }
   ],
   "source": [
    "# 2. Attack label mapping\n",
    "attack_label_mapping = {\n",
    "    0: \"Send fake command\",\n",
    "    1: \"Moving Two files\",\n",
    "    2: \"Exploit ms08 netapi\",\n",
    "    3: \"CnC uploading exe\",\n",
    "    4: \"Characterization\",\n",
    "    5: \"Least Significant bit exfiltration\"\n",
    "}\n",
    "\n",
    "# 3. Feature names (final mapping based on your dataset)\n",
    "feature_cols = [\n",
    "    'Source',\n",
    "    'Destination',\n",
    "    'Protocol',\n",
    "    'Length',\n",
    "    'query_type',\n",
    "    'function_code',\n",
    "    'transaction_id'\n",
    "]\n",
    "\n",
    "\n",
    "explainer = Explanation(\n",
    "  current_sample,\n",
    "  X_test.values,\n",
    "  'IDS1_model.h5',\n",
    "  original_score,\n",
    "  feature_cols,\n",
    "  [len(feature_cols)],\n",
    "  'kitsune'\n",
    ")\n",
    "# 5. Find a proper input\n",
    "# after instantiation, but before search:\n",
    "explainer.delta = 1.0        # the max possible probability change\n",
    "# now re-run the history selection steps:\n",
    "explainer.search_proper_input()        # find the minimal history window\n",
    "explainer.capture_relevant_history()   # filter that window down to the truly relevant samples\n",
    "explainer.relevant_history = list(X_test.values)   # give it the full history\n",
    "# then\n",
    "explainer.weighted_sampling(num_samples=50)       # more samples → more variation\n",
    "explainer.sparse_group_lasso()\n",
    "explainer.visualization(\n",
    "  probs={prediction}\n",
    "  group_sizes=[len(feature_cols)],\n",
    "  group_names=[\"All Features\"],\n",
    "  feature_names=feature_cols\n",
    ")\n",
    "\n",
    "\n"
   ]
  },
  {
   "cell_type": "code",
   "execution_count": 13,
   "id": "dc12f72a-5789-4e3f-a176-9bfb32b02cab",
   "metadata": {},
   "outputs": [
    {
     "name": "stdout",
     "output_type": "stream",
     "text": [
      "2025-05-09 02:54:42,802 - WARNING - Compiled the loaded model, but the compiled metrics have yet to be built. `model.compile_metrics` will be empty until you train or evaluate the model.\n",
      "\u001b[1m1/1\u001b[0m \u001b[32m━━━━━━━━━━━━━━━━━━━━\u001b[0m\u001b[37m\u001b[0m \u001b[1m0s\u001b[0m 83ms/step\n",
      "▶ new_input shape: (1, 7)\n",
      "2025-05-09 02:54:42,998 - WARNING - Compiled the loaded model, but the compiled metrics have yet to be built. `model.compile_metrics` will be empty until you train or evaluate the model.\n",
      "\u001b[1m1/1\u001b[0m \u001b[32m━━━━━━━━━━━━━━━━━━━━\u001b[0m\u001b[37m\u001b[0m \u001b[1m0s\u001b[0m 96ms/step\n",
      "\u001b[1m1/1\u001b[0m \u001b[32m━━━━━━━━━━━━━━━━━━━━\u001b[0m\u001b[37m\u001b[0m \u001b[1m0s\u001b[0m 21ms/step\n",
      "▶ relevant_history length: 938254\n",
      "▶ relevant_history[0] shape: (7,)\n",
      "▶ relevant_history as array shape: (938254, 7)\n",
      "▶ weighted_samples type: <class 'numpy.ndarray'>\n",
      "▶ weighted_samples shape: (15, 7)\n",
      "2025-05-09 02:54:43,438 - WARNING - Compiled the loaded model, but the compiled metrics have yet to be built. `model.compile_metrics` will be empty until you train or evaluate the model.\n",
      "\u001b[1m1/1\u001b[0m \u001b[32m━━━━━━━━━━━━━━━━━━━━\u001b[0m\u001b[37m\u001b[0m \u001b[1m0s\u001b[0m 99ms/step\n",
      "▶ lasso coefs: [array([ 0., -0., -0.,  0., -0.,  0.,  0.])]\n"
     ]
    }
   ],
   "source": [
    "explainer.search_proper_input()\n",
    "print(\"▶ new_input shape:\", explainer.new_input.shape)\n",
    "\n",
    "explainer.capture_relevant_history()\n",
    "# relevant_history is a list of samples, not an array\n",
    "print(\"▶ relevant_history length:\", len(explainer.relevant_history))\n",
    "if explainer.relevant_history:\n",
    "    sample = explainer.relevant_history[0]\n",
    "    print(\"▶ relevant_history[0] shape:\", sample.shape)\n",
    "\n",
    "# (Optional) Convert it into a NumPy array for convenience\n",
    "import numpy as np\n",
    "explainer.relevant_history = np.array(explainer.relevant_history)\n",
    "print(\"▶ relevant_history as array shape:\", explainer.relevant_history.shape)\n",
    "\n",
    "explainer.weighted_sampling(num_samples=15)\n",
    "# weighted_samples is usually a NumPy array, but check anyway:\n",
    "print(\"▶ weighted_samples type:\", type(explainer.weighted_samples))\n",
    "try:\n",
    "    print(\"▶ weighted_samples shape:\", explainer.weighted_samples.shape)\n",
    "except AttributeError:\n",
    "    print(\"   (no .shape; maybe a list of arrays)  length:\",\n",
    "          len(explainer.weighted_samples))\n",
    "\n",
    "explainer.sparse_group_lasso()\n",
    "print(\"▶ lasso coefs:\", explainer.coef)\n"
   ]
  },
  {
   "cell_type": "code",
   "execution_count": null,
   "id": "6cc9f49c-cf37-4cbe-9a6a-a32f1a3b658d",
   "metadata": {},
   "outputs": [],
   "source": []
  }
 ],
 "metadata": {
  "kernelspec": {
   "display_name": "Python 3 (ipykernel)",
   "language": "python",
   "name": "python3"
  },
  "language_info": {
   "codemirror_mode": {
    "name": "ipython",
    "version": 3
   },
   "file_extension": ".py",
   "mimetype": "text/x-python",
   "name": "python",
   "nbconvert_exporter": "python",
   "pygments_lexer": "ipython3",
   "version": "3.11.0"
  }
 },
 "nbformat": 4,
 "nbformat_minor": 5
}
